{
  "nbformat": 4,
  "nbformat_minor": 0,
  "metadata": {
    "colab": {
      "name": "Convolutional NN",
      "provenance": []
    },
    "kernelspec": {
      "name": "python3",
      "display_name": "Python 3"
    }
  },
  "cells": [
    {
      "cell_type": "markdown",
      "metadata": {
        "id": "VVSjQFP11_3L",
        "colab_type": "text"
      },
      "source": [
        "MNIST esetén egy sima konvolúciós háló\n",
        "\n",
        "![alt text](https://miro.medium.com/max/3744/1*SGPGG7oeSvVlV5sOSQ2iZw.png)\n",
        "\n",
        "Általános esetben\n",
        "\n",
        "![alt text](https://miro.medium.com/max/772/1*kkyW7BR5FZJq4_oBTx3OPQ.png)\n",
        "\n",
        "A kódban már csak azokhoz a lépésekhez fűztem kommentet, amelyek nem voltak vagy változtak a fullyconnectedhez képest."
      ]
    },
    {
      "cell_type": "code",
      "metadata": {
        "id": "813HphTkeeuL",
        "colab_type": "code",
        "outputId": "6cc2d4a9-2124-4027-c534-1c7437212915",
        "colab": {
          "base_uri": "https://localhost:8080/",
          "height": 1000
        }
      },
      "source": [
        "#imports\n",
        "\n",
        "import tensorflow as tf\n",
        "import numpy as np\n",
        "import random\n",
        "import matplotlib.pyplot as plt\n",
        "\n",
        "from tensorflow.examples.tutorials.mnist import input_data as data \n",
        "mnist_data = data.read_data_sets('tmp/MNIST_data/', one_hot=True)\n",
        "\n",
        "\n",
        "#finding the data and the label shapes\n",
        "\n",
        "#a konvolúciós nnben egy (pontosabban egy batchnyi) kivágott képet veszünk ki a nagyból\n",
        "#ennek a mérete a kernelünktől fog függeni\n",
        "#az input tömbünk megegyezik a kép méretével(784 = 28*28) és színével(feketefehér -> 1dim -> 1): [28, 28, 1] \n",
        "\n",
        "#itt ki lehet iratni pár fancységet, de nem lényeg\n",
        "#print('Input size: ' + str(mnist_data.train.images.shape[1]))\n",
        "#img = mnist_data.train.images[0]\n",
        "#img = np.reshape(img, [28,28])\n",
        "#plt.imshow(img)\n",
        "\n",
        "#hyperparameters\n",
        "\n",
        "#most nem a méretét adjuk meg hanem az alakját \n",
        "input_shape = [28, 28, 1]\n",
        "num_classes = mnist_data.train.labels.shape[1]\n",
        "batch_size = 64\n",
        "#itt most nem layereket adunk meg hanem a kerneleink számát az adott layerekhez\n",
        "num_kernels = [32, 64, 128]\n",
        "num_iterations = 1000\n",
        "\n",
        "\n",
        "#graph building\n",
        "\n",
        "tf.reset_default_graph()\n",
        "\n",
        "#az input datánál most mivel nem egy méretünk hanem egy alakunk van ezért konkatenálnunk kell a batch méretével\n",
        "input_data = tf.placeholder(tf.float32, [batch_size] + input_shape)\n",
        "expected_output = tf.placeholder(tf.float32, [batch_size, num_classes])\n",
        "\n",
        "current_input = input_data\n",
        "#az inputunkon mivel 1 darab kép ezért csak egy kernelünk lehet\n",
        "#ha rgb-s a képünk akkor ez a dimenziók miatt 3, de adattól függ így itt nem tesztelhető\n",
        "input_channels = input_shape[-1]\n",
        "\n",
        "#végig iterálunk az összes layeren, ami meg fog egyezni a kernelek számával\n",
        "for ind, val in enumerate(num_kernels):\n",
        "\n",
        "  #azért használtam enumaratet, hogy itt be tudjam rakni az indexet\n",
        "  with tf.variable_scope('layer' + str(ind)):\n",
        "\n",
        "    #itt meghatározunk egy 3x3as kernelt, ami az előző layer méretéből a mostaniba visz át\n",
        "    #kicsit úgy kell elképzelni mint egy szűrőt -> layerenként jóval kevesebb neuront igényel\n",
        "    w = tf.get_variable('kernel', [3, 3, input_channels, val])\n",
        "\n",
        "    b = tf.get_variable('b', [val])\n",
        "\n",
        "    #kovolúció maga az első két paraméter elv triviális\n",
        "    #a strides az azért 1,1,1,1 mert így ugyanakkora lesz az input és az output mérete\n",
        "    #hasonlóan a pedding, ha SAME akkor csak a stride lesz hatással a kép méretének változására a kernel nem\n",
        "    current_input = tf.nn.conv2d(input=current_input, filter=w, strides=[1,1,1,1], padding='SAME')\n",
        "\n",
        "    current_input = tf.add(current_input, b)\n",
        "    current_input = tf.nn.relu(current_input)\n",
        "\n",
        "    #ez a lépés felelős a downsamplingért, ezért meg kell adnunk itt is egy kernel size-t \n",
        "    #de se a batch méretét se a kerneleink számát nem akarjuk piszkálni, csak a képünket lefelezni\n",
        "    #így a kernel [1,2,2,1] <- [batch_size, horizontal, vertical, num_kernel]\n",
        "    #a strides és a padding ehhez igazodik\n",
        "    current_input = tf.nn.max_pool(current_input, ksize=[1,2,2,1], strides=[1,2,2,1], padding='SAME')\n",
        "\n",
        "    #odaadjuk a layer kerneleinek a számát\n",
        "    input_channels = val\n",
        "\n",
        "\n",
        "#a klasszifikáció kezdete, ezt most egy layerbe sűrítettük\n",
        "with tf.variable_scope('output_layer'):\n",
        "\n",
        "  #egy darab vektorba akarjuk rendezni az utolsó layerünk kimenetét\n",
        "  #ehhez először megnézzük, hogy mekkora is lesz ez a vektor\n",
        "  feature_length = 1\n",
        "  for i in range(0, len(input_shape)):\n",
        "    feature_length *= current_input.shape[-(i+1)]\n",
        "  \n",
        "  #most ennek a vektornak a méretére reshapeljük (ezt hívjuk flattennek)\n",
        "  #egy dinamikus paraméterünk lehet, hogy determinisztikus maradjon, és ez most a batch_sizeunk lesz\n",
        "  current_input = tf.reshape(current_input, [-1, feature_length])\n",
        "\n",
        "  #egy sima fullyconnected output layer, ezért nincs is rajta activation function\n",
        "  w = tf.get_variable('w', [feature_length, num_classes])\n",
        "  b = tf.get_variable('b', [num_classes])\n",
        "  current_input = tf.matmul(current_input, w)\n",
        "  current_input = tf.add(current_input, b)\n",
        "\n",
        "with tf.variable_scope('loss'):\n",
        "  loss=tf.reduce_mean(tf.nn.softmax_cross_entropy_with_logits_v2(labels=expected_output, logits=current_input))\n",
        "\n",
        "with tf.variable_scope('optimizer'):\n",
        "  optimizer = tf.train.AdamOptimizer(1e-4).minimize(loss)\n",
        "\n",
        "with tf.name_scope('accuracy'):\n",
        "  correct_predicitions = tf.equal(tf.argmax(current_input, 1), tf.argmax(expected_output, 1))\n",
        "  accuracy = tf.reduce_mean(tf.cast(correct_predicitions, tf.float32))\n",
        "\n",
        "\n",
        "#session\n",
        "\n",
        "with tf.Session() as sess:\n",
        "  sess.run(tf.global_variables_initializer())\n",
        "\n",
        "  loss_plot = np.zeros(num_iterations)\n",
        "  acc_plot = np.zeros(num_iterations)\n",
        "\n",
        "  for i in range(0, num_iterations):\n",
        "    used_in_batch = random.sample(range(len(mnist_data.train.images)), batch_size)\n",
        "\n",
        "    #itt fontos hogy ugye most a placeholder alakjára akarjuk hozni\n",
        "    #viszont arra figyelni kell, hogy itt a reshape az a numpy függvénye, mivel amit reshapelünk annak a típusa np.array\n",
        "    #feljebb volt egy tf.reshape, ne keverjük\n",
        "    batch_x = np.reshape(mnist_data.train.images[used_in_batch], [batch_size] + input_shape)\n",
        "\n",
        "    batch_y = mnist_data.train.labels[used_in_batch]\n",
        "\n",
        "    _, l, acc = sess.run([optimizer, loss, accuracy], feed_dict={input_data: batch_x, expected_output: batch_y})\n",
        "\n",
        "    loss_plot[i] = l\n",
        "    acc_plot[i] = acc\n",
        "\n",
        "    if (i%100 == 0):\n",
        "      print('Iteration: ' + str(i) + ', loss: ' + str(l) + ', accuracy: ' + str(acc))\n",
        "\n",
        "plt.plot(loss_plot)\n",
        "plt.plot(acc_plot)\n"
      ],
      "execution_count": 1,
      "outputs": [
        {
          "output_type": "display_data",
          "data": {
            "text/html": [
              "<p style=\"color: red;\">\n",
              "The default version of TensorFlow in Colab will soon switch to TensorFlow 2.x.<br>\n",
              "We recommend you <a href=\"https://www.tensorflow.org/guide/migrate\" target=\"_blank\">upgrade</a> now \n",
              "or ensure your notebook will continue to use TensorFlow 1.x via the <code>%tensorflow_version 1.x</code> magic:\n",
              "<a href=\"https://colab.research.google.com/notebooks/tensorflow_version.ipynb\" target=\"_blank\">more info</a>.</p>\n"
            ],
            "text/plain": [
              "<IPython.core.display.HTML object>"
            ]
          },
          "metadata": {
            "tags": []
          }
        },
        {
          "output_type": "stream",
          "text": [
            "WARNING:tensorflow:From <ipython-input-1-079d52576349>:8: read_data_sets (from tensorflow.contrib.learn.python.learn.datasets.mnist) is deprecated and will be removed in a future version.\n",
            "Instructions for updating:\n",
            "Please use alternatives such as official/mnist/dataset.py from tensorflow/models.\n",
            "WARNING:tensorflow:From /usr/local/lib/python3.6/dist-packages/tensorflow_core/contrib/learn/python/learn/datasets/mnist.py:260: maybe_download (from tensorflow.contrib.learn.python.learn.datasets.base) is deprecated and will be removed in a future version.\n",
            "Instructions for updating:\n",
            "Please write your own downloading logic.\n",
            "WARNING:tensorflow:From /usr/local/lib/python3.6/dist-packages/tensorflow_core/contrib/learn/python/learn/datasets/base.py:252: _internal_retry.<locals>.wrap.<locals>.wrapped_fn (from tensorflow.contrib.learn.python.learn.datasets.base) is deprecated and will be removed in a future version.\n",
            "Instructions for updating:\n",
            "Please use urllib or similar directly.\n",
            "Successfully downloaded train-images-idx3-ubyte.gz 9912422 bytes.\n",
            "WARNING:tensorflow:From /usr/local/lib/python3.6/dist-packages/tensorflow_core/contrib/learn/python/learn/datasets/mnist.py:262: extract_images (from tensorflow.contrib.learn.python.learn.datasets.mnist) is deprecated and will be removed in a future version.\n",
            "Instructions for updating:\n",
            "Please use tf.data to implement this functionality.\n",
            "Extracting tmp/MNIST_data/train-images-idx3-ubyte.gz\n",
            "Successfully downloaded train-labels-idx1-ubyte.gz 28881 bytes.\n",
            "WARNING:tensorflow:From /usr/local/lib/python3.6/dist-packages/tensorflow_core/contrib/learn/python/learn/datasets/mnist.py:267: extract_labels (from tensorflow.contrib.learn.python.learn.datasets.mnist) is deprecated and will be removed in a future version.\n",
            "Instructions for updating:\n",
            "Please use tf.data to implement this functionality.\n",
            "Extracting tmp/MNIST_data/train-labels-idx1-ubyte.gz\n",
            "WARNING:tensorflow:From /usr/local/lib/python3.6/dist-packages/tensorflow_core/contrib/learn/python/learn/datasets/mnist.py:110: dense_to_one_hot (from tensorflow.contrib.learn.python.learn.datasets.mnist) is deprecated and will be removed in a future version.\n",
            "Instructions for updating:\n",
            "Please use tf.one_hot on tensors.\n",
            "Successfully downloaded t10k-images-idx3-ubyte.gz 1648877 bytes.\n",
            "Extracting tmp/MNIST_data/t10k-images-idx3-ubyte.gz\n",
            "Successfully downloaded t10k-labels-idx1-ubyte.gz 4542 bytes.\n",
            "Extracting tmp/MNIST_data/t10k-labels-idx1-ubyte.gz\n",
            "WARNING:tensorflow:From /usr/local/lib/python3.6/dist-packages/tensorflow_core/contrib/learn/python/learn/datasets/mnist.py:290: DataSet.__init__ (from tensorflow.contrib.learn.python.learn.datasets.mnist) is deprecated and will be removed in a future version.\n",
            "Instructions for updating:\n",
            "Please use alternatives such as official/mnist/dataset.py from tensorflow/models.\n",
            "Iteration: 0, loss: 2.370469, accuracy: 0.125\n",
            "Iteration: 100, loss: 2.0460813, accuracy: 0.625\n",
            "Iteration: 200, loss: 1.0190779, accuracy: 0.765625\n",
            "Iteration: 300, loss: 0.5603808, accuracy: 0.859375\n",
            "Iteration: 400, loss: 0.35433373, accuracy: 0.90625\n",
            "Iteration: 500, loss: 0.31931412, accuracy: 0.875\n",
            "Iteration: 600, loss: 0.27272633, accuracy: 0.90625\n",
            "Iteration: 700, loss: 0.29482344, accuracy: 0.9375\n",
            "Iteration: 800, loss: 0.1170213, accuracy: 0.96875\n",
            "Iteration: 900, loss: 0.23124318, accuracy: 0.9375\n"
          ],
          "name": "stdout"
        },
        {
          "output_type": "execute_result",
          "data": {
            "text/plain": [
              "[<matplotlib.lines.Line2D at 0x7f470746e438>]"
            ]
          },
          "metadata": {
            "tags": []
          },
          "execution_count": 1
        },
        {
          "output_type": "display_data",
          "data": {
            "image/png": "[encoded data removed]",
            "text/plain": [
              "<Figure size 432x288 with 1 Axes>"
            ]
          },
          "metadata": {
            "tags": []
          }
        }
      ]
    },
    {
      "cell_type": "markdown",
      "metadata": {
        "id": "whxsaIzuCzQ-",
        "colab_type": "text"
      },
      "source": [
        "Ugyanaz a feladat, csak batchnormalizationnal és dropouttal"
      ]
    },
    {
      "cell_type": "code",
      "metadata": {
        "id": "Iu9BO3IoDMjN",
        "colab_type": "code",
        "outputId": "37aa8e2d-9454-41c5-c890-14ae5a95e3d3",
        "colab": {
          "base_uri": "https://localhost:8080/",
          "height": 642
        }
      },
      "source": [
        "#imports\n",
        "\n",
        "import tensorflow as tf\n",
        "import numpy as np\n",
        "import random\n",
        "import matplotlib.pyplot as plt\n",
        "\n",
        "from tensorflow.examples.tutorials.mnist import input_data as data \n",
        "mnist_data = data.read_data_sets('tmp/MNIST_data/', one_hot=True)\n",
        "\n",
        "\n",
        "#hyperparameters\n",
        "\n",
        "input_shape = [28, 28, 1]\n",
        "num_classes = mnist_data.train.labels.shape[1]\n",
        "batch_size = 64\n",
        "num_kernels = [32, 64, 128]\n",
        "num_iterations = 1000\n",
        "\n",
        "\n",
        "#graph building\n",
        "\n",
        "tf.reset_default_graph()\n",
        "\n",
        "input_data = tf.placeholder(tf.float32, [batch_size] + input_shape)\n",
        "expected_output = tf.placeholder(tf.float32, [batch_size, num_classes])\n",
        "\n",
        "#megadunk egy placeholdert a batchnormalization egyik paraméterének, hogy a sessionbe tudjuk állítani\n",
        "is_training = tf.placeholder_with_default(False, (), 'is_training')\n",
        "\n",
        "current_input = input_data\n",
        "input_channels = input_shape[-1]\n",
        "\n",
        "for ind, val in enumerate(num_kernels):\n",
        "  with tf.variable_scope('layer' + str(ind)):\n",
        "    w = tf.get_variable('kernel', [3, 3, input_channels, val])\n",
        "    b = tf.get_variable('b', [val])\n",
        "\n",
        "    current_input = tf.nn.conv2d(input=current_input, filter=w, strides=[1,1,1,1], padding='SAME')\n",
        "\n",
        "    #layerenként alkalmazzuk a batch normalizálást egyből a konvolúció után\n",
        "    current_input = tf.layers.batch_normalization(current_input, training=is_training)\n",
        "\n",
        "    #itt beállított rátával hagyunk el neuronokat a layerünkből\n",
        "    current_input = tf.nn.dropout(current_input, rate = 0.1)\n",
        "\n",
        "    current_input = tf.add(current_input, b)\n",
        "    current_input = tf.nn.relu(current_input)\n",
        "    current_input = tf.nn.max_pool(current_input, ksize=[1,2,2,1], strides=[1,2,2,1], padding='SAME')\n",
        "\n",
        "    input_channels = val\n",
        "\n",
        "with tf.variable_scope('output_layer'):\n",
        "  feature_length = 1\n",
        "  for i in range(0, len(input_shape)):\n",
        "    feature_length *= current_input.shape[-(i+1)]\n",
        "\n",
        "  current_input = tf.reshape(current_input, [-1, feature_length])\n",
        "\n",
        "  w = tf.get_variable('w', [feature_length, num_classes])\n",
        "  b = tf.get_variable('b', [num_classes])\n",
        "  current_input = tf.matmul(current_input, w)\n",
        "  current_input = tf.add(current_input, b)\n",
        "\n",
        "with tf.variable_scope('loss'):\n",
        "  loss=tf.reduce_mean(tf.nn.softmax_cross_entropy_with_logits_v2(labels=expected_output, logits=current_input))\n",
        "\n",
        "with tf.variable_scope('optimizer'):\n",
        "  optimizer = tf.train.AdamOptimizer(1e-4).minimize(loss)\n",
        "\n",
        "with tf.name_scope('accuracy'):\n",
        "  correct_predicitions = tf.equal(tf.argmax(current_input, 1), tf.argmax(expected_output, 1))\n",
        "  accuracy = tf.reduce_mean(tf.cast(correct_predicitions, tf.float32))\n",
        "\n",
        "\n",
        "#session\n",
        "\n",
        "with tf.Session() as sess:\n",
        "  sess.run(tf.global_variables_initializer())\n",
        "\n",
        "  loss_plot = np.zeros(num_iterations)\n",
        "  acc_plot = np.zeros(num_iterations)\n",
        "\n",
        "  for i in range(0, num_iterations):\n",
        "    used_in_batch = random.sample(range(len(mnist_data.train.images)), batch_size)\n",
        "    batch_x = np.reshape(mnist_data.train.images[used_in_batch], [batch_size] + input_shape)\n",
        "    batch_y = mnist_data.train.labels[used_in_batch]\n",
        "\n",
        "    #ebben a sessionben egy fix értéket adtunk az is_trainingnek így kicsit felesleges a placeholder\n",
        "    #de akár ezt is szedhetnénk külső adatból\n",
        "    _, l, acc = sess.run([optimizer, loss, accuracy], feed_dict={input_data: batch_x, expected_output: batch_y, is_training: True})\n",
        "\n",
        "    loss_plot[i] = l\n",
        "    acc_plot[i] = acc\n",
        "\n",
        "    if (i%100 == 0):\n",
        "      print('Iteration: ' + str(i) + ', loss: ' + str(l) + ', accuracy: ' + str(acc))\n",
        "\n",
        "plt.plot(loss_plot)\n",
        "plt.plot(acc_plot)"
      ],
      "execution_count": 2,
      "outputs": [
        {
          "output_type": "stream",
          "text": [
            "Extracting tmp/MNIST_data/train-images-idx3-ubyte.gz\n",
            "Extracting tmp/MNIST_data/train-labels-idx1-ubyte.gz\n",
            "Extracting tmp/MNIST_data/t10k-images-idx3-ubyte.gz\n",
            "Extracting tmp/MNIST_data/t10k-labels-idx1-ubyte.gz\n",
            "WARNING:tensorflow:From <ipython-input-2-edbd5ab575c6>:41: batch_normalization (from tensorflow.python.layers.normalization) is deprecated and will be removed in a future version.\n",
            "Instructions for updating:\n",
            "Use keras.layers.BatchNormalization instead.  In particular, `tf.control_dependencies(tf.GraphKeys.UPDATE_OPS)` should not be used (consult the `tf.keras.layers.batch_normalization` documentation).\n",
            "WARNING:tensorflow:From /usr/local/lib/python3.6/dist-packages/tensorflow_core/python/layers/normalization.py:327: Layer.apply (from tensorflow.python.keras.engine.base_layer) is deprecated and will be removed in a future version.\n",
            "Instructions for updating:\n",
            "Please use `layer.__call__` method instead.\n",
            "Iteration: 0, loss: 4.039734, accuracy: 0.0625\n",
            "Iteration: 100, loss: 0.52656627, accuracy: 0.859375\n",
            "Iteration: 200, loss: 0.33498037, accuracy: 0.953125\n",
            "Iteration: 300, loss: 0.30281118, accuracy: 0.9375\n",
            "Iteration: 400, loss: 0.19079164, accuracy: 0.953125\n",
            "Iteration: 500, loss: 0.110610366, accuracy: 1.0\n",
            "Iteration: 600, loss: 0.060423758, accuracy: 1.0\n",
            "Iteration: 700, loss: 0.09908776, accuracy: 0.96875\n",
            "Iteration: 800, loss: 0.10578943, accuracy: 0.953125\n",
            "Iteration: 900, loss: 0.19702655, accuracy: 0.9375\n"
          ],
          "name": "stdout"
        },
        {
          "output_type": "execute_result",
          "data": {
            "text/plain": [
              "[<matplotlib.lines.Line2D at 0x7f46a50153c8>]"
            ]
          },
          "metadata": {
            "tags": []
          },
          "execution_count": 2
        },
        {
          "output_type": "display_data",
          "data": {
            "image/png": "[encoded data removed]",
            "text/plain": [
              "<Figure size 432x288 with 1 Axes>"
            ]
          },
          "metadata": {
            "tags": []
          }
        }
      ]
    }
  ]
}