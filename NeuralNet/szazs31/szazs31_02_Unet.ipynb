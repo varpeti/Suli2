{
  "nbformat": 4,
  "nbformat_minor": 0,
  "metadata": {
    "colab": {
      "name": "U-Net",
      "provenance": []
    },
    "kernelspec": {
      "name": "python3",
      "display_name": "Python 3"
    }
  },
  "cells": [
    {
      "cell_type": "markdown",
      "metadata": {
        "id": "w1bGhkYwAJFr",
        "colab_type": "text"
      },
      "source": [
        "Ez egy konvolúciós neurháló, ahol ugyanazok a downsampling lépések és az upsampling lépések. Emellett minden méretből skippelünk egy layert az upsamplinghez, és ott összekonkatenáljuk őket.\n",
        "\n",
        "![alt text](https://miro.medium.com/max/2824/1*f7YOaE4TWubwaFF7Z1fzNw.png)\n",
        "\n",
        "Az importot nem részletezem, mert teljesen felesleges tudni.\n",
        "\n",
        "Ez a kód épít a Convolution NN kód kommentjeire."
      ]
    },
    {
      "cell_type": "code",
      "metadata": {
        "id": "ajj265KQb9B7",
        "colab_type": "code",
        "outputId": "fb8ff0c6-f895-4617-a8b5-1cd4d1744952",
        "colab": {
          "base_uri": "https://localhost:8080/",
          "height": 148
        }
      },
      "source": [
        "#import\n",
        "\n",
        "import numpy as np\n",
        "import tensorflow as tf\n",
        "import random\n",
        "import matplotlib.pyplot as plt\n",
        "\n",
        "#for the operational system oppurtunities\n",
        "import os \n",
        "\n",
        "\n",
        "#load the data\n",
        "\n",
        "!pip install -U -q pyDrive\n",
        "from pydrive.auth import GoogleAuth\n",
        "from pydrive.drive import  GoogleDrive\n",
        "from google.colab import auth\n",
        "from oauth2client.client import GoogleCredentials\n",
        "\n",
        "auth.authenticate_user()\n",
        "gauth = GoogleAuth()\n",
        "gauth.credentials = GoogleCredentials.get_application_default()\n",
        "drive = GoogleDrive(gauth)\n",
        "\n",
        "f = drive.CreateFile({'id': '1XeuSYBk2PPwEX7GWKyytc8ySggPkkYiB'})\n",
        "f.GetContentFile('data.zip')\n",
        "! unzip data.zip\n",
        "\n",
        "def load_data(path):\n",
        "  return np.load(os.path.join(path, 'train_img.npy')), \\\n",
        "  np.load(os.path.join(path, 'train_mask.npy')), \\\n",
        "  np.load(os.path.join(path, 'test_img.npy')), \\\n",
        "  np.load(os.path.join(path, 'test_mask.npy'))\n",
        "\n",
        "train_img, train_mask, test_img, test_mask = load_data('./')"
      ],
      "execution_count": 2,
      "outputs": [
        {
          "output_type": "display_data",
          "data": {
            "text/html": [
              "<p style=\"color: red;\">\n",
              "The default version of TensorFlow in Colab will soon switch to TensorFlow 2.x.<br>\n",
              "We recommend you <a href=\"https://www.tensorflow.org/guide/migrate\" target=\"_blank\">upgrade</a> now \n",
              "or ensure your notebook will continue to use TensorFlow 1.x via the <code>%tensorflow_version 1.x</code> magic:\n",
              "<a href=\"https://colab.research.google.com/notebooks/tensorflow_version.ipynb\" target=\"_blank\">more info</a>.</p>\n"
            ],
            "text/plain": [
              "<IPython.core.display.HTML object>"
            ]
          },
          "metadata": {
            "tags": []
          }
        },
        {
          "output_type": "stream",
          "text": [
            "Archive:  data.zip\n",
            "  inflating: train_img.npy           \n",
            "  inflating: test_img.npy            \n",
            "  inflating: train_mask.npy          \n",
            "  inflating: test_mask.npy           \n"
          ],
          "name": "stdout"
        }
      ]
    },
    {
      "cell_type": "code",
      "metadata": {
        "id": "w1DlgVZ2dTwx",
        "colab_type": "code",
        "outputId": "f28b3942-c692-4915-fd84-d2ba3244c96a",
        "colab": {
          "base_uri": "https://localhost:8080/",
          "height": 469
        }
      },
      "source": [
        "#finding the data and the mask shapes\n",
        "\n",
        "#itt láthatjuk hogy van egy 2975 darabos 48*48as rgb-s képünk (rgbDim = 3)\n",
        "#és most nem nézzük meg a label alakját, mert a u-netnél ugyanannak kell lennie mint az inputnak\n",
        "print(train_img.shape)\n",
        "\n",
        "#ha valakit érdekel hogy hogy néz ki az input és a mask itt ki lehet printelni\n",
        "#fig = plt.figure(figsize = (8,7))\n",
        "#ax = fig.subplots(nrows = 1, ncols = 2)\n",
        "#ax[0].imshow(train_img[0, :] / 255)\n",
        "#ax[1].imshow(train_mask[0, :] / 255)\n",
        "\n",
        "\n",
        "#hyperparameters\n",
        "\n",
        "input_shape = [48, 48, 3]\n",
        "batch_size = 2\n",
        "num_kernels = [input_shape[-1], 64, 128, 256, 512, 1024]\n",
        "num_iterations = 1000\n",
        "\n",
        "\n",
        "#graph building\n",
        "\n",
        "tf.reset_default_graph()\n",
        "\n",
        "#itt látszik hogy ugyanazt az alakot adtuk meg mindkettőnek\n",
        "input_data = tf.placeholder(tf.float32, [batch_size] + input_shape)\n",
        "expected_output = tf.placeholder(tf.float32, [batch_size] + input_shape)\n",
        "\n",
        "current_input = input_data\n",
        "\n",
        "#ez az üres tömb, ahol tárolni fogjuk a skippelendő layerünket\n",
        "layers = []\n",
        "\n",
        "#downsampling\n",
        "\n",
        "for i in range(0, len(num_kernels)-1):\n",
        "  with tf.variable_scope('downLayer' + str(i)):\n",
        "    w = tf.get_variable('kernel', [3, 3, num_kernels[i], num_kernels[i+1]])\n",
        "    b = tf.get_variable('b', [num_kernels[i+1]])\n",
        "\n",
        "    current_input = tf.nn.conv2d(current_input, w, strides=[1,1,1,1], padding='SAME')\n",
        "    current_input = tf.add(current_input, b)\n",
        "    current_input = tf.nn.relu(current_input)\n",
        "\n",
        "    #a legalsó layert nem akrjuk kimenteni és downsamplingelni se\n",
        "    if(i != len(num_kernels)-2):\n",
        "      layers.append(current_input)\n",
        "      current_input = tf.nn.max_pool(current_input, ksize=[1,2,2,1], strides=[1,2,2,1], padding='SAME')\n",
        "\n",
        "#upsampling\n",
        "\n",
        "for i in range(len(num_kernels)-1, 0, -1) :\n",
        "  with tf.variable_scope('upLayer' + str(i)):\n",
        "\n",
        "    #az utolsó layert nem akarjuk upsamplingelni\n",
        "    if(i != 1):\n",
        "\n",
        "      #upsamplingnél fordítva kell megadni a filter alakjának utolsó két paraméterét\n",
        "      #valószínüleg azért van így kitalálva, mert ha mentett súlyokból dolgozunk mint az autoencoderbe, akkor nem kell átalakítani\n",
        "      w = tf.get_variable('weights', [3, 3, num_kernels[i-1], num_kernels[i]])\n",
        "      b = tf.get_variable('bias', [num_kernels[i-1]])\n",
        "\n",
        "      #ez felel meg a maxpoolnak, tehát itt upsamplingelünk\n",
        "      #annyi a paraméterek között a különbség hogy itt nem kernel méretet adunk meg hanem a várt output alakját\n",
        "      current_input = tf.nn.conv2d_transpose(current_input, w, [batch_size, layers[i-2].shape[1], layers[i-2].shape[2], num_kernels[i-1]], strides=[1,2,2,1], padding='SAME')\n",
        "      current_input = tf.add(current_input, b)\n",
        "      current_input = tf.nn.relu(current_input)\n",
        "\n",
        "      #végül összekonkatenáljuk az adott értékeket, és még meg kell adni a tengelyt is\n",
        "      current_input = tf.concat([current_input, layers[i-2]], 3)\n",
        "\n",
        "    #ez itt meg egy normal konvolúciós lépés ahol csökkentjük a kernel méretét\n",
        "    #mivel a konkatenáció miatt duplájára nőtt\n",
        "    w = tf.get_variable('kernel', [3, 3, num_kernels[i], num_kernels[i-1]])\n",
        "    b = tf.get_variable('b', [num_kernels[i-1]])\n",
        "    current_input = tf.nn.conv2d(current_input, w, strides=[1,1,1,1], padding='SAME')\n",
        "    current_input = tf.add(current_input, b)\n",
        "\n",
        "    #a u-netnél se szeretnénk (hasonlóan a fullyconnectedhez), az utolsó layerre az activation functiont \n",
        "    if(i != 1):\n",
        "      current_input = tf.nn.relu(current_input)\n",
        "\n",
        "\n",
        "with tf.variable_scope('loss'):\n",
        "  #itt vesszük a két kép különbségének az abszolútérétékét és \"átlagoljuk\"\n",
        "  loss=tf.reduce_mean(tf.abs(tf.subtract(expected_output, current_input)))\n",
        "\n",
        "with tf.variable_scope('optimizer'):\n",
        "  optimizer = tf.train.AdamOptimizer(1e-4).minimize(loss)\n",
        "\n",
        "#session\n",
        "\n",
        "with tf.Session() as sess:\n",
        "  sess.run(tf.global_variables_initializer())\n",
        "\n",
        "  loss_plot = np.zeros(num_iterations)\n",
        "\n",
        "  for i in range(0, num_iterations):\n",
        "    used_in_batch = random.sample(range(len(train_img)), batch_size)\n",
        "    batch_x = train_img[used_in_batch]\n",
        "    batch_y = train_mask[used_in_batch]\n",
        "\n",
        "    _, l = sess.run([optimizer, loss], feed_dict={input_data: batch_x, expected_output: batch_y})\n",
        "\n",
        "    loss_plot[i] = l\n",
        "\n",
        "    if (i%100 == 0):\n",
        "      print('Iteration: ' + str(i) + ', loss: ' + str(l))\n",
        "\n",
        "\n",
        "plt.plot(loss_plot)\n"
      ],
      "execution_count": 5,
      "outputs": [
        {
          "output_type": "stream",
          "text": [
            "(2975, 48, 48, 3)\n",
            "Iteration: 0, loss: 91.81167\n",
            "Iteration: 100, loss: 33.50456\n",
            "Iteration: 200, loss: 32.0528\n",
            "Iteration: 300, loss: 22.571354\n",
            "Iteration: 400, loss: 27.714098\n",
            "Iteration: 500, loss: 29.655485\n",
            "Iteration: 600, loss: 30.703775\n",
            "Iteration: 700, loss: 31.424675\n",
            "Iteration: 800, loss: 28.801134\n",
            "Iteration: 900, loss: 28.13053\n"
          ],
          "name": "stdout"
        },
        {
          "output_type": "execute_result",
          "data": {
            "text/plain": [
              "[<matplotlib.lines.Line2D at 0x7f99917ec860>]"
            ]
          },
          "metadata": {
            "tags": []
          },
          "execution_count": 5
        },
        {
          "output_type": "display_data",
          "data": {
            "image/png": "[encoded data removed]",
            "text/plain": [
              "<Figure size 432x288 with 1 Axes>"
            ]
          },
          "metadata": {
            "tags": []
          }
        }
      ]
    }
  ]
}