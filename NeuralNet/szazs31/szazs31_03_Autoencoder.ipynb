{
  "nbformat": 4,
  "nbformat_minor": 0,
  "metadata": {
    "colab": {
      "name": "Autoencoder",
      "provenance": [],
      "collapsed_sections": []
    },
    "kernelspec": {
      "name": "python3",
      "display_name": "Python 3"
    }
  },
  "cells": [
    {
      "cell_type": "markdown",
      "metadata": {
        "id": "kEb6QApA_NMw",
        "colab_type": "text"
      },
      "source": [
        "Itt a trükk az, hogy a downsampling súlyait használjuk az upsamplingnél.\n",
        "\n",
        "A célja pedig hogy csak inputokból tudjuk tanítani a hálónkat.\n",
        "\n",
        "![alt text](https://miro.medium.com/max/3524/1*oUbsOnYKX5DEpMOK3pH_lg.png)\n",
        "\n",
        "Később ha kell akkor tanítás után levágható a decoder része\n",
        "\n",
        "Ajánlott a U-Net kódot tanulmányozni előtte"
      ]
    },
    {
      "cell_type": "code",
      "metadata": {
        "id": "3aQUvpVepR6i",
        "colab_type": "code",
        "outputId": "064a7c9a-26d5-4413-9a9a-fa0ab227b39f",
        "colab": {
          "base_uri": "https://localhost:8080/",
          "height": 520
        }
      },
      "source": [
        "#import\n",
        "\n",
        "import numpy as np\n",
        "import tensorflow as tf\n",
        "import matplotlib.pyplot as plt\n",
        "import random\n",
        "\n",
        "from tensorflow.examples.tutorials.mnist import input_data as data \n",
        "mnist = data.read_data_sets('tmp/MNIST_data/', one_hot=False)\n",
        "\n",
        "\n",
        "#hyperparameters\n",
        "\n",
        "input_shape = [28, 28, 1]\n",
        "batch_size = 64\n",
        "num_kernels = [input_shape[-1], 32, 64, 128, 256, 10]\n",
        "num_iterations = 1000\n",
        "\n",
        "\n",
        "#graph building\n",
        "\n",
        "tf.reset_default_graph()\n",
        "\n",
        "#elég egy placeholder, mivel ezt használom label helyett is\n",
        "input_data = tf.placeholder(tf.float32, [batch_size] + input_shape)\n",
        "\n",
        "current_input = input_data\n",
        "\n",
        "#ide csak bementem a layereken az adott képek méreteit, hogy ne kelljen undorítóan szorozgatni upsamplingnél\n",
        "img_sizes = []\n",
        "\n",
        "#ebbe pedig a súlyok fognak kerülni\n",
        "weights = []\n",
        "\n",
        "for i in range(0, len(num_kernels)-1):\n",
        "  with tf.variable_scope('downLayer' + str(i)):\n",
        "    w = tf.get_variable('kernel', [3, 3, num_kernels[i], num_kernels[i+1]])\n",
        "    b = tf.get_variable('b', [num_kernels[i+1]])\n",
        "\n",
        "    #belerakjuk az adott kernelt\n",
        "    weights.append(w)\n",
        "\n",
        "    current_input = tf.nn.conv2d(current_input, w, strides=[1,1,1,1], padding='SAME')\n",
        "    current_input = tf.add(current_input, b)\n",
        "    current_input = tf.nn.relu(current_input)\n",
        "\n",
        "    #belerakom a kép alakját\n",
        "    img_sizes.append([current_input.shape[1], current_input.shape[2]])\n",
        "\n",
        "    current_input = tf.nn.max_pool(current_input, ksize=[1,2,2,1], strides=[1,2,2,1], padding='SAME')\n",
        "\n",
        "#végigiterálok az utolsó előtti elemtől az elsőig\n",
        "for i in range(len(num_kernels)-2, -1, -1):\n",
        "  with tf.variable_scope('upLayer' + str(i)):\n",
        "\n",
        "    #odaadom neki a lementett súlyt\n",
        "    w = weights[i]\n",
        "\n",
        "    b = tf.get_variable('bias', [num_kernels[i]])\n",
        "\n",
        "    current_input = tf.nn.conv2d_transpose(current_input, w, [batch_size, img_sizes[i][0], img_sizes[i][1], num_kernels[i]], strides=[1,2,2,1], padding='SAME')\n",
        "    current_input = tf.add(current_input, b)\n",
        "    current_input = tf.nn.relu(current_input)\n",
        "\n",
        "    #itt nem alkalmazunk külön konvolúciót a layeren belül\n",
        "\n",
        "\n",
        "with tf.variable_scope('loss'):\n",
        "\n",
        "  #négyzetes hibát nézünk -> tf.square tf.abs helyett\n",
        "  #és itt a labelként használjuk az input_datát\n",
        "  loss = tf.reduce_mean(tf.square(tf.subtract(current_input, input_data)))\n",
        "\n",
        "with tf.variable_scope('optimizer'):\n",
        "  optimizer = tf.train.AdamOptimizer(1e-4).minimize(loss)\n",
        "\n",
        "\n",
        "#session\n",
        "\n",
        "with tf.Session() as sess:\n",
        "  sess.run(tf.global_variables_initializer())\n",
        "\n",
        "  loss_plot = np.zeros(num_iterations)\n",
        "\n",
        "  for i in range(0, num_iterations):\n",
        "    used_in_batch = random.sample(range(len(mnist.train.images)), batch_size)\n",
        "\n",
        "    #reshapelnünk kell mint a CNNben\n",
        "    batch_x = np.reshape(mnist.train.images[used_in_batch], [batch_size] + input_shape)\n",
        "\n",
        "    _, l = sess.run([optimizer, loss], feed_dict={input_data: batch_x})\n",
        "\n",
        "    loss_plot[i]=l\n",
        "\n",
        "    if i%100 == 0:\n",
        "      print('Iteration: ' + str(i) + ', loss: ' + str(l))\n",
        "\n",
        "plt.plot(loss_plot)\n"
      ],
      "execution_count": 0,
      "outputs": [
        {
          "output_type": "stream",
          "text": [
            "Extracting tmp/MNIST_data/train-images-idx3-ubyte.gz\n",
            "Extracting tmp/MNIST_data/train-labels-idx1-ubyte.gz\n",
            "Extracting tmp/MNIST_data/t10k-images-idx3-ubyte.gz\n",
            "Extracting tmp/MNIST_data/t10k-labels-idx1-ubyte.gz\n",
            "Iteration: 0, loss: 0.0971949\n",
            "Iteration: 100, loss: 0.064114064\n",
            "Iteration: 200, loss: 0.06592451\n",
            "Iteration: 300, loss: 0.070535876\n",
            "Iteration: 400, loss: 0.06241579\n",
            "Iteration: 500, loss: 0.06812831\n",
            "Iteration: 600, loss: 0.05841769\n",
            "Iteration: 700, loss: 0.05525028\n",
            "Iteration: 800, loss: 0.05216489\n",
            "Iteration: 900, loss: 0.053099845\n"
          ],
          "name": "stdout"
        },
        {
          "output_type": "execute_result",
          "data": {
            "text/plain": [
              "[<matplotlib.lines.Line2D at 0x7fbe74dc5710>]"
            ]
          },
          "metadata": {
            "tags": []
          },
          "execution_count": 35
        },
        {
          "output_type": "display_data",
          "data": {
            "image/png": "[encoded data removed]",
            "text/plain": [
              "<Figure size 432x288 with 1 Axes>"
            ]
          },
          "metadata": {
            "tags": []
          }
        }
      ]
    }
  ]
}