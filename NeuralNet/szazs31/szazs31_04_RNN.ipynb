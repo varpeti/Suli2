{
  "nbformat": 4,
  "nbformat_minor": 0,
  "metadata": {
    "colab": {
      "name": "RNN",
      "provenance": []
    },
    "kernelspec": {
      "name": "python3",
      "display_name": "Python 3"
    }
  },
  "cells": [
    {
      "cell_type": "markdown",
      "metadata": {
        "id": "e1YLwzJTWTvE",
        "colab_type": "text"
      },
      "source": [
        "Itt látható egy LSTM cell 3 unitja, annyi unit ahány input. Itt az inputok vektorok.\n",
        "\n",
        "\n",
        "![alt text](https://s3-ap-south-1.amazonaws.com/av-blog-media/wp-content/uploads/2017/12/10131302/13.png)\n",
        "\n",
        "Ez pedig egy ellentétes irányú RNN, de mi nem ilyet csinálunk (tudtommal), csak ez volt a legszemléletesebb ábrám hozzá.\n",
        "\n",
        "![alt text](https://miro.medium.com/max/790/1*GRQ91HNASB7MAJPTTlVvfw.jpeg)"
      ]
    },
    {
      "cell_type": "code",
      "metadata": {
        "id": "SGwq7Z9VG49X",
        "colab_type": "code",
        "outputId": "6dbf1fe7-8129-4f3f-faf5-1ac9c090c1ce",
        "colab": {
          "base_uri": "https://localhost:8080/",
          "height": 437
        }
      },
      "source": [
        "#import\n",
        "\n",
        "import numpy as np\n",
        "import tensorflow as tf\n",
        "import matplotlib.pyplot as plt\n",
        "import random\n",
        "\n",
        "!wget http://users.itk.ppke.hu/~nagad2/resources/electrical_devs/ElectricDevices_TEST.dms\n",
        "!wget http://users.itk.ppke.hu/~nagad2/resources/electrical_devs/ElectricDevices_TRAIN.dms\n",
        "\n",
        "with open('ElectricDevices_TEST.dms', 'r') as f:\n",
        "  test_file = f.read()\n",
        "\n",
        "with open('ElectricDevices_TRAIN.dms', 'r') as f:\n",
        "  train_file = f.read()\n",
        "\n",
        "train_file = train_file.split('\\n')\n",
        "train_data = np.zeros((len(train_file), 96))\n",
        "train_labels = np.zeros((len(train_file), 1))\n",
        "\n",
        "for ind,t in enumerate(train_file):\n",
        "  d = t.split(',')\n",
        "  if d[0] != \"\":\n",
        "    train_labels[ind] = int(d[0])-1  \n",
        "    train_data[ind, :] = np.asarray(d[1:])\n",
        "\n",
        "test_file = test_file.split('\\n')\n",
        "test_data = np.zeros((len(test_file), 96))\n",
        "test_labels = np.zeros((len(test_file), 1))"
      ],
      "execution_count": 0,
      "outputs": [
        {
          "output_type": "display_data",
          "data": {
            "text/html": [
              "<p style=\"color: red;\">\n",
              "The default version of TensorFlow in Colab will soon switch to TensorFlow 2.x.<br>\n",
              "We recommend you <a href=\"https://www.tensorflow.org/guide/migrate\" target=\"_blank\">upgrade</a> now \n",
              "or ensure your notebook will continue to use TensorFlow 1.x via the <code>%tensorflow_version 1.x</code> magic:\n",
              "<a href=\"https://colab.research.google.com/notebooks/tensorflow_version.ipynb\" target=\"_blank\">more info</a>.</p>\n"
            ],
            "text/plain": [
              "<IPython.core.display.HTML object>"
            ]
          },
          "metadata": {
            "tags": []
          }
        },
        {
          "output_type": "stream",
          "text": [
            "--2019-12-14 06:59:04--  http://users.itk.ppke.hu/~nagad2/resources/electrical_devs/ElectricDevices_TEST.dms\n",
            "Resolving users.itk.ppke.hu (users.itk.ppke.hu)... 193.225.109.33\n",
            "Connecting to users.itk.ppke.hu (users.itk.ppke.hu)|193.225.109.33|:80... connected.\n",
            "HTTP request sent, awaiting response... 200 OK\n",
            "Length: 6307707 (6.0M) [application/x-dms]\n",
            "Saving to: ‘ElectricDevices_TEST.dms’\n",
            "\n",
            "ElectricDevices_TES 100%[===================>]   6.01M   925KB/s    in 6.8s    \n",
            "\n",
            "2019-12-14 06:59:16 (909 KB/s) - ‘ElectricDevices_TEST.dms’ saved [6307707/6307707]\n",
            "\n",
            "--2019-12-14 06:59:18--  http://users.itk.ppke.hu/~nagad2/resources/electrical_devs/ElectricDevices_TRAIN.dms\n",
            "Resolving users.itk.ppke.hu (users.itk.ppke.hu)... 193.225.109.33\n",
            "Connecting to users.itk.ppke.hu (users.itk.ppke.hu)|193.225.109.33|:80... connected.\n",
            "HTTP request sent, awaiting response... 200 OK\n",
            "Length: 7302704 (7.0M) [application/x-dms]\n",
            "Saving to: ‘ElectricDevices_TRAIN.dms’\n",
            "\n",
            "ElectricDevices_TRA 100%[===================>]   6.96M  1.10MB/s    in 5.0s    \n",
            "\n",
            "2019-12-14 06:59:23 (1.40 MB/s) - ‘ElectricDevices_TRAIN.dms’ saved [7302704/7302704]\n",
            "\n"
          ],
          "name": "stdout"
        }
      ]
    },
    {
      "cell_type": "code",
      "metadata": {
        "id": "GnDCV6aBKJKO",
        "colab_type": "code",
        "outputId": "4c3d3acc-244f-4cf7-98ff-efc1e2bf9005",
        "colab": {
          "base_uri": "https://localhost:8080/",
          "height": 877
        }
      },
      "source": [
        "#finding the data and the label shapes\n",
        "\n",
        "print('Input shape: ' + str(train_data.shape))\n",
        "\n",
        "#Ebből látszik, hogy nem one_hot\n",
        "print('Expected output shape: ' + str(train_labels.shape[1]))\n",
        "print('Expected output random element: ' + str(train_labels[2352]))\n",
        "#megnézzük az elemeit, és látszik, hogy 7 féle opciónk van\n",
        "print('Expected output all variations of the elements: ' + str(np.unique(train_labels)))\n",
        "\n",
        "\n",
        "#hyperparameters\n",
        "\n",
        "#azért kell 2 dimenzió, mivel az input egy egész vektor lesz\n",
        "input_shape = [train_data.shape[1], 1]\n",
        "batch_size = 64\n",
        "#a uniqueból látszik, hogy nem használhatjuk a label shapjét, mert nem one_hot\n",
        "#de ilyenkor lekérhetjük a fentebb megnézett tömb méretét\n",
        "num_classes = len(np.unique(train_labels))\n",
        "state_size = [1, 16, 32]\n",
        "fully_layers = [state_size[-1], 16, num_classes]\n",
        "num_iterations = 3000\n",
        "\n",
        "\n",
        "#graph building\n",
        "\n",
        "tf.reset_default_graph()\n",
        "\n",
        "input_data = tf.placeholder(tf.float32, [batch_size] + input_shape)\n",
        "#azért int32, mert a tf.one_hot csak azt tudja megenni\n",
        "expected_output = tf.placeholder(tf.int32, [batch_size])\n",
        "\n",
        "#itt teszzük one_hot formára, hogy tudjuk használni\n",
        "one_hot_labels = tf.one_hot(expected_output, num_classes)\n",
        "\n",
        "#ebbe fogjuk tárolni az RNN celláinkat\n",
        "cells = []\n",
        "\n",
        "#végigiterálunk az állapotokon\n",
        "for i in range(len(state_size)-1):\n",
        "\n",
        "  #létrehozunk egy cellát majd betöltjük a cells[] be\n",
        "  #nem muszáj LSTMet, de mi azt használtuk\n",
        "  #num_units: int, The number of units in the LSTM cell\n",
        "  #num_proj: (optional) int, The output dimensionality for the projection matrices. If None, no projection is performed.\n",
        "  cell = tf.nn.rnn_cell.LSTMCell(num_units=state_size[i], num_proj=state_size[i+1])\n",
        "  cells.append(cell)\n",
        "\n",
        "#készít egy rnn cellát szekvenciálisan a tömbben lévő egyszerű cellákból\n",
        "multi_layer_rnn = tf.nn.rnn_cell.MultiRNNCell(cells)\n",
        "\n",
        "#elkészíti az RNN-t magát\n",
        "#'outputs' is a tensor of shape [batch_size, max_time, cell_state_size]\n",
        "#'state' is a tensor of shape [batch_size, cell_state_size]\n",
        "outputs, state = tf.nn.dynamic_rnn(multi_layer_rnn, input_data, dtype=tf.float32)\n",
        "\n",
        "#az utolsó állapotunkat lekérjük, hogy odaadhassuk a fullyconnectednek\n",
        "current_input = state[-1][-1]\n",
        "\n",
        "#csak egy szokásos fullyconnected\n",
        "for i in range(len(fully_layers)-1):\n",
        "  with tf.variable_scope('layer' + str(i)):\n",
        "\n",
        "    #ezeket a változókat nem akarjuk \"tanítani\"\n",
        "    w = tf.get_variable('w', [fully_layers[i], fully_layers[i+1]], trainable=False)\n",
        "    b = tf.get_variable('b', [fully_layers[i+1]], trainable=False)\n",
        "    current_input = tf.matmul(current_input, w)\n",
        "    current_input = tf.add(current_input, b)\n",
        "\n",
        "    if(i != len(fully_layers)-2):\n",
        "      current_input = tf.nn.relu(current_input)\n",
        "\n",
        "\n",
        "with tf.variable_scope('loss'):\n",
        "  loss = tf.reduce_mean(tf.nn.softmax_cross_entropy_with_logits_v2(labels=one_hot_labels, logits=current_input))\n",
        "\n",
        "with tf.variable_scope('optimizer'):\n",
        "  optimizer = tf.train.AdamOptimizer(1e-4).minimize(loss)\n",
        "\n",
        "with tf.variable_scope('accuracy'):\n",
        "  accuracy = tf.reduce_mean(tf.cast(tf.equal(tf.argmax(one_hot_labels, 1), tf.argmax(current_input, 1)), tf.float32))\n",
        "\n",
        "\n",
        "#session\n",
        "\n",
        "with tf.Session() as sess:\n",
        "  sess.run(tf.global_variables_initializer())\n",
        "\n",
        "  loss_plot = np.zeros(num_iterations)\n",
        "  acc_plot = np.zeros(num_iterations)\n",
        "\n",
        "  for i in range(num_iterations):\n",
        "    used_in_batch = random.sample(range(len(train_data)), batch_size)\n",
        "    batch_x = np.reshape(train_data[used_in_batch], [batch_size] + input_shape)\n",
        "    batch_y = np.reshape(train_labels[used_in_batch], [batch_size])\n",
        "\n",
        "    _, l, acc = sess.run([optimizer, loss, accuracy], feed_dict={input_data: batch_x, expected_output: batch_y})\n",
        "\n",
        "    loss_plot[i] = l\n",
        "    acc_plot[i] = acc\n",
        "\n",
        "    if(i%100 == 0):\n",
        "      print('Iteration: ' + str(i) + ', loss: ' + str(l) + ', accuracy: ' + str(acc))\n",
        "\n",
        "plt.plot(loss_plot)\n",
        "plt.plot(acc_plot)\n"
      ],
      "execution_count": 0,
      "outputs": [
        {
          "output_type": "stream",
          "text": [
            "Input shape: (8927, 96)\n",
            "Expected output shape: 1\n",
            "Expected output random element: [6.]\n",
            "Expected output all variations of the elements: [0. 1. 2. 3. 4. 5. 6.]\n",
            "<class 'tensorflow.python.framework.ops.Tensor'>\n",
            "Iteration: 0, loss: 1.8980263, accuracy: 0.09375\n",
            "Iteration: 100, loss: 1.6493831, accuracy: 0.21875\n",
            "Iteration: 200, loss: 1.5778407, accuracy: 0.234375\n",
            "Iteration: 300, loss: 1.4814237, accuracy: 0.265625\n",
            "Iteration: 400, loss: 1.5661464, accuracy: 0.28125\n",
            "Iteration: 500, loss: 1.3486207, accuracy: 0.375\n",
            "Iteration: 600, loss: 1.5012525, accuracy: 0.359375\n",
            "Iteration: 700, loss: 1.4718614, accuracy: 0.28125\n",
            "Iteration: 800, loss: 1.4379063, accuracy: 0.375\n",
            "Iteration: 900, loss: 1.3203888, accuracy: 0.375\n",
            "Iteration: 1000, loss: 1.5441461, accuracy: 0.3125\n",
            "Iteration: 1100, loss: 1.2872099, accuracy: 0.453125\n",
            "Iteration: 1200, loss: 1.3655646, accuracy: 0.34375\n",
            "Iteration: 1300, loss: 1.297282, accuracy: 0.359375\n",
            "Iteration: 1400, loss: 1.271781, accuracy: 0.34375\n",
            "Iteration: 1500, loss: 1.2704108, accuracy: 0.328125\n",
            "Iteration: 1600, loss: 1.2370013, accuracy: 0.40625\n",
            "Iteration: 1700, loss: 1.2952552, accuracy: 0.375\n",
            "Iteration: 1800, loss: 1.3773764, accuracy: 0.328125\n",
            "Iteration: 1900, loss: 1.3391663, accuracy: 0.453125\n",
            "Iteration: 2000, loss: 1.359627, accuracy: 0.59375\n",
            "Iteration: 2100, loss: 1.2049545, accuracy: 0.703125\n",
            "Iteration: 2200, loss: 1.2487798, accuracy: 0.53125\n",
            "Iteration: 2300, loss: 1.2896323, accuracy: 0.59375\n",
            "Iteration: 2400, loss: 1.2017888, accuracy: 0.625\n",
            "Iteration: 2500, loss: 1.2088081, accuracy: 0.625\n",
            "Iteration: 2600, loss: 1.2569113, accuracy: 0.53125\n",
            "Iteration: 2700, loss: 1.3046913, accuracy: 0.484375\n",
            "Iteration: 2800, loss: 1.2817283, accuracy: 0.546875\n",
            "Iteration: 2900, loss: 1.0412046, accuracy: 0.65625\n"
          ],
          "name": "stdout"
        },
        {
          "output_type": "execute_result",
          "data": {
            "text/plain": [
              "[<matplotlib.lines.Line2D at 0x7f21c52f67b8>]"
            ]
          },
          "metadata": {
            "tags": []
          },
          "execution_count": 24
        },
        {
          "output_type": "display_data",
          "data": {
            "image/png": "[encoded data removed]",
            "text/plain": [
              "<Figure size 432x288 with 1 Axes>"
            ]
          },
          "metadata": {
            "tags": []
          }
        }
      ]
    }
  ]
}